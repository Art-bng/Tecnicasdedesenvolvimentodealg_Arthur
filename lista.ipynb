{
  "nbformat": 4,
  "nbformat_minor": 0,
  "metadata": {
    "colab": {
      "provenance": [],
      "authorship_tag": "ABX9TyOonhSa0aI4UIx24pxG/2Nq",
      "include_colab_link": true
    },
    "kernelspec": {
      "name": "python3",
      "display_name": "Python 3"
    },
    "language_info": {
      "name": "python"
    }
  },
  "cells": [
    {
      "cell_type": "markdown",
      "metadata": {
        "id": "view-in-github",
        "colab_type": "text"
      },
      "source": [
        "<a href=\"https://colab.research.google.com/github/Art-bng/Tecnicasdedesenvolvimentodealg_Arthur/blob/main/lista.ipynb\" target=\"_parent\"><img src=\"https://colab.research.google.com/assets/colab-badge.svg\" alt=\"Open In Colab\"/></a>"
      ]
    },
    {
      "cell_type": "code",
      "execution_count": null,
      "metadata": {
        "colab": {
          "base_uri": "https://localhost:8080/"
        },
        "id": "bONHhKE3kQ8a",
        "outputId": "393992ae-5f39-4d7a-b8c1-86ae6696bf40"
      },
      "outputs": [
        {
          "output_type": "stream",
          "name": "stdout",
          "text": [
            "Meu primeiro programa\n"
          ]
        }
      ],
      "source": [
        "print(\"Meu primeiro programa\")"
      ]
    },
    {
      "cell_type": "code",
      "source": [
        "num= int(input(\"Digite um número:\"))\n",
        "print(num)"
      ],
      "metadata": {
        "colab": {
          "base_uri": "https://localhost:8080/"
        },
        "id": "2hwoPRtoklMV",
        "outputId": "b115b450-b4cf-4a48-8942-07c2694dadf3"
      },
      "execution_count": null,
      "outputs": [
        {
          "output_type": "stream",
          "name": "stdout",
          "text": [
            "Digite um número:3\n",
            "3\n"
          ]
        }
      ]
    },
    {
      "cell_type": "code",
      "source": [
        "num= int(input(\"Digite um número:\"))\n",
        "print(\"Foi informado o valor\",num)"
      ],
      "metadata": {
        "colab": {
          "base_uri": "https://localhost:8080/"
        },
        "id": "CQ0WwmxpkxR-",
        "outputId": "7708b249-1e53-4776-e867-35c4a7a9eb9f"
      },
      "execution_count": null,
      "outputs": [
        {
          "output_type": "stream",
          "name": "stdout",
          "text": [
            "Digite um número:5\n",
            "Foi informado o valor 5\n"
          ]
        }
      ]
    },
    {
      "cell_type": "code",
      "source": [
        "num1= int(input(\"Digite o primeiro número:\"))\n",
        "num2= int(input(\"Digite o segundo número\"))\n",
        "print(\"Você informou os números\",num1, \"e\",num2)"
      ],
      "metadata": {
        "colab": {
          "base_uri": "https://localhost:8080/"
        },
        "id": "NzWMwwuwk0sD",
        "outputId": "cb224481-df37-4da1-8694-5a08a71766cf"
      },
      "execution_count": null,
      "outputs": [
        {
          "output_type": "stream",
          "name": "stdout",
          "text": [
            "Digite o primeiro número:6\n",
            "Digite o segundo número4\n",
            "Você informou os números 6 e 4\n"
          ]
        }
      ]
    },
    {
      "cell_type": "code",
      "source": [
        "num = float(input(\"Digite um número real: \"))\n",
        "print(f\"Você informou o número {num:.2f}\")"
      ],
      "metadata": {
        "colab": {
          "base_uri": "https://localhost:8080/"
        },
        "id": "yINurkgelCxC",
        "outputId": "c2a62987-9f36-4f2c-a896-2a239ca03ffc"
      },
      "execution_count": null,
      "outputs": [
        {
          "output_type": "stream",
          "name": "stdout",
          "text": [
            "Digite um número real: 3\n",
            "Você informou o número 3.00\n"
          ]
        }
      ]
    },
    {
      "cell_type": "code",
      "source": [
        "celsius = float(input(\"Digite a temperatura em graus Celsius: \"))\n",
        "f = celsius * 1.8 + 32\n",
        "print(f\"A temperatura em Fahrenheit é: {f:.2f}\")"
      ],
      "metadata": {
        "colab": {
          "base_uri": "https://localhost:8080/"
        },
        "id": "_Hih-QjSlDwQ",
        "outputId": "1e33cb27-d6f1-4116-881f-528114e3e1ca"
      },
      "execution_count": null,
      "outputs": [
        {
          "output_type": "stream",
          "name": "stdout",
          "text": [
            "Digite a temperatura em graus Celsius: 12\n",
            "A temperatura em Fahrenheit é: 53.60\n"
          ]
        }
      ]
    },
    {
      "cell_type": "code",
      "source": [
        "n1 = int(input(\"Digite um número inteiro: \"))\n",
        "n2 = float(input(\"Digite um número real: \"))\n",
        "print(f\"Você informou os números {n1} e {n2:.2f}\")"
      ],
      "metadata": {
        "colab": {
          "base_uri": "https://localhost:8080/"
        },
        "id": "4ZEeyJpDlFhX",
        "outputId": "86480ace-d9c4-4dc3-c4da-cb15c43afcd0"
      },
      "execution_count": null,
      "outputs": [
        {
          "output_type": "stream",
          "name": "stdout",
          "text": [
            "Digite um número inteiro: 3\n",
            "Digite um número real: 4\n",
            "Você informou os números 3 e 4.00\n"
          ]
        }
      ]
    },
    {
      "cell_type": "code",
      "source": [
        "letra = input(\"Digite a primeira letra do seu nome: \")\n",
        "print(f\"Você digitou {letra}\")"
      ],
      "metadata": {
        "colab": {
          "base_uri": "https://localhost:8080/"
        },
        "id": "xReGdu12lHwZ",
        "outputId": "ee98d509-799e-480c-8c23-8dd75b1c3460"
      },
      "execution_count": null,
      "outputs": [
        {
          "output_type": "stream",
          "name": "stdout",
          "text": [
            "Digite a primeira letra do seu nome: A\n",
            "Você digitou A\n"
          ]
        }
      ]
    },
    {
      "cell_type": "code",
      "source": [
        "cor = input(\"Digite o nome de sua cor preferida: \")\n",
        "print(f\"Você gosta da cor {cor}\")"
      ],
      "metadata": {
        "colab": {
          "base_uri": "https://localhost:8080/"
        },
        "id": "Hq6yTHs7lJlh",
        "outputId": "23829dd0-3fb7-44b9-cf07-86a913387094"
      },
      "execution_count": null,
      "outputs": [
        {
          "output_type": "stream",
          "name": "stdout",
          "text": [
            "Digite o nome de sua cor preferida: azul\n",
            "Você gosta da cor azul\n"
          ]
        }
      ]
    },
    {
      "cell_type": "code",
      "source": [
        "verdura = input(\"Digite o nome de uma verdura: \")\n",
        "fruta = input(\"Digite o nome de uma fruta: \")\n",
        "print(f\"Você gosta de {verdura} e {fruta}\")"
      ],
      "metadata": {
        "colab": {
          "base_uri": "https://localhost:8080/"
        },
        "id": "ijGXaX0klLKG",
        "outputId": "0eefac7e-9a6a-4643-b3c9-9ea18cf183d4"
      },
      "execution_count": null,
      "outputs": [
        {
          "output_type": "stream",
          "name": "stdout",
          "text": [
            "Digite o nome de uma verdura: tomate\n",
            "Digite o nome de uma fruta: tomate\n",
            "Você gosta de tomate e tomate\n"
          ]
        }
      ]
    },
    {
      "cell_type": "code",
      "source": [
        "num = float(input(\"Digite um número real: \"))\n",
        "print(f\"Número -> {num}\")\n",
        "print(f\"Dobro deste número -> {num * 2}\")"
      ],
      "metadata": {
        "colab": {
          "base_uri": "https://localhost:8080/"
        },
        "id": "oKL2vO3rlNl1",
        "outputId": "98bf959c-b467-4607-8790-f2239b1dfd7e"
      },
      "execution_count": null,
      "outputs": [
        {
          "output_type": "stream",
          "name": "stdout",
          "text": [
            "Digite um número real: 3\n",
            "Número -> 3.0\n",
            "Dobro deste número -> 6.0\n"
          ]
        }
      ]
    },
    {
      "cell_type": "code",
      "source": [
        "num = float(input(\"Digite um número real: \"))\n",
        "print(f\"Número -> {num}\")\n",
        "print(f\"Quadrado deste número -> {num ** 2}\")\n",
        "print(f\"Cubo deste número -> {num ** 3}\")"
      ],
      "metadata": {
        "colab": {
          "base_uri": "https://localhost:8080/"
        },
        "id": "znnJ3szFlPxY",
        "outputId": "c94867c4-7893-40b7-bc54-40ec07e199bc"
      },
      "execution_count": null,
      "outputs": [
        {
          "output_type": "stream",
          "name": "stdout",
          "text": [
            "Digite um número real: 3\n",
            "Número -> 3.0\n",
            "Quadrado deste número -> 9.0\n",
            "Cubo deste número -> 27.0\n"
          ]
        }
      ]
    },
    {
      "cell_type": "code",
      "source": [
        "n1 = int(input(\"Digite o primeiro número inteiro: \"))\n",
        "n2 = int(input(\"Digite o segundo número inteiro: \"))\n",
        "print(f\"A soma dos números corresponde a {n1 + n2}\")"
      ],
      "metadata": {
        "colab": {
          "base_uri": "https://localhost:8080/"
        },
        "id": "FyjMeq5jlRXx",
        "outputId": "95f99e0b-a1ce-48f1-a9e9-8fdb84a4fa50"
      },
      "execution_count": null,
      "outputs": [
        {
          "output_type": "stream",
          "name": "stdout",
          "text": [
            "Digite o primeiro número inteiro: 3\n",
            "Digite o segundo número inteiro: 3\n",
            "A soma dos números corresponde a 6\n"
          ]
        }
      ]
    },
    {
      "cell_type": "code",
      "source": [
        "n1 = float(input(\"Digite o primeiro número real: \"))\n",
        "n2 = float(input(\"Digite o segundo número real: \"))\n",
        "print(f\"O produto dos números {n1} e {n2} corresponde a {n1 * n2}\")"
      ],
      "metadata": {
        "colab": {
          "base_uri": "https://localhost:8080/"
        },
        "id": "jc5UHVXKlTbk",
        "outputId": "7d74b5c6-93a9-42da-a8e8-7736f66ba982"
      },
      "execution_count": null,
      "outputs": [
        {
          "output_type": "stream",
          "name": "stdout",
          "text": [
            "Digite o primeiro número real: 3\n",
            "Digite o segundo número real: 3\n",
            "O produto dos números 3.0 e 3.0 corresponde a 9.0\n"
          ]
        }
      ]
    },
    {
      "cell_type": "code",
      "source": [
        "n1 = float(input(\"Digite o primeiro número real: \"))\n",
        "n2 = float(input(\"Digite o segundo número real: \"))\n",
        "print(f\"Soma: {n1 + n2}\")\n",
        "print(f\"Subtração: {n1 - n2}\")\n",
        "print(f\"Multiplicação: {n1 * n2}\")\n",
        "if n2 != 0:\n",
        "    print(f\"Divisão: {n1 / n2}\")\n",
        "else:\n",
        "    print(\"Divisão por zero não é permitida\")"
      ],
      "metadata": {
        "colab": {
          "base_uri": "https://localhost:8080/"
        },
        "id": "61ZBEujFlVV0",
        "outputId": "a929ec6c-4518-4a52-c88e-5d0a0492f1be"
      },
      "execution_count": null,
      "outputs": [
        {
          "output_type": "stream",
          "name": "stdout",
          "text": [
            "Digite o primeiro número real: 3\n",
            "Digite o segundo número real: 4\n",
            "Soma: 7.0\n",
            "Subtração: -1.0\n",
            "Multiplicação: 12.0\n",
            "Divisão: 0.75\n"
          ]
        }
      ]
    },
    {
      "cell_type": "code",
      "source": [],
      "metadata": {
        "id": "8fNputlGmF0X"
      },
      "execution_count": null,
      "outputs": []
    },
    {
      "cell_type": "code",
      "source": [
        "salario_fixo = float(input(\"Digite o valor fixo do salário do vendedor: \"))\n",
        "total_vendas = float(input(\"Digite o total vendido no mês: \"))\n",
        "percentual_comissao = float(input(\"Digite o percentual de comissão (%): \"))\n",
        "\n",
        "comissao = (percentual_comissao / 100) * total_vendas\n",
        "salario_bruto = salario_fixo + comissao\n",
        "\n",
        "print(f\"O salário bruto do vendedor é: R$ {salario_bruto:.2f}\")"
      ],
      "metadata": {
        "colab": {
          "base_uri": "https://localhost:8080/"
        },
        "id": "LygKHekdlXaA",
        "outputId": "0dbfadb4-7b9e-43d6-8d57-935961ffa261"
      },
      "execution_count": null,
      "outputs": [
        {
          "output_type": "stream",
          "name": "stdout",
          "text": [
            "Digite o valor fixo do salário do vendedor: 1000\n",
            "Digite o total vendido no mês: 350\n",
            "Digite o percentual de comissão (%): 34\n",
            "O salário bruto do vendedor é: R$ 1119.00\n"
          ]
        }
      ]
    }
  ]
}